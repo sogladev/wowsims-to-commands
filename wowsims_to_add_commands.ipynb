{
 "cells": [
  {
   "cell_type": "markdown",
   "metadata": {},
   "source": [
    "## Convert a WoWSims export JSON to usable `.add` commands\n",
    "\n",
    "dependencies:\n",
    "1. Spell.dbc exported to SQL with stoneharry spell editor\n",
    "2. python 3.11+\n",
    "3. jupyter notebook, pandas, sqlalchemy\n",
    "\n",
    "optional (`superdupermacro`) addon to paste in 1 macro https://felbite.com/addon/4135-superdupermacro/"
   ]
  },
  {
   "cell_type": "code",
   "execution_count": 1,
   "metadata": {},
   "outputs": [],
   "source": [
    "from pathlib import Path\n",
    "import json"
   ]
  },
  {
   "cell_type": "code",
   "execution_count": 2,
   "metadata": {},
   "outputs": [],
   "source": [
    "data_folder = Path('wowsimdata')\n",
    "json_path = data_folder / Path('t6_fury_warrior.json')"
   ]
  },
  {
   "cell_type": "code",
   "execution_count": 3,
   "metadata": {},
   "outputs": [],
   "source": [
    "with open (json_path, 'r') as f:\n",
    "    data = json.load(f)"
   ]
  },
  {
   "cell_type": "code",
   "execution_count": 4,
   "metadata": {},
   "outputs": [],
   "source": [
    "items = data['player']['equipment']['items']"
   ]
  },
  {
   "cell_type": "code",
   "execution_count": 5,
   "metadata": {},
   "outputs": [
    {
     "name": "stderr",
     "output_type": "stream",
     "text": [
      "/tmp/ipykernel_501610/2563654969.py:3: DeprecationWarning: \n",
      "Pyarrow will become a required dependency of pandas in the next major release of pandas (pandas 3.0),\n",
      "(to allow more performant data types, such as the Arrow string type, and better interoperability with other libraries)\n",
      "but was not found to be installed on your system.\n",
      "If this would cause problems for you,\n",
      "please provide us feedback at https://github.com/pandas-dev/pandas/issues/54466\n",
      "        \n",
      "  import pandas as pd\n"
     ]
    },
    {
     "name": "stdout",
     "output_type": "stream",
     "text": [
      "          ID  Effect1  EffectMiscValue1                 SpellName0  \\\n",
      "0          1        5                 0       Word of Recall (OLD)   \n",
      "1          3        5                 0  Word of Mass Recall (OLD)   \n",
      "2          4        5                 0       Word of Recall Other   \n",
      "3          5        1                 0         Stoneharry's Touch   \n",
      "4          7        1                 0                    Suicide   \n",
      "...      ...      ...               ...                        ...   \n",
      "49851  90043        2                 0            Chain Lightning   \n",
      "49852  90044        2                 0            Positive Charge   \n",
      "49853  90045        2                 0            Negative Charge   \n",
      "49854  90046        6                 0            Positive Charge   \n",
      "49855  90047        6                 0            Negative Charge   \n",
      "\n",
      "         SpellRank0  \n",
      "0                    \n",
      "1                    \n",
      "2                    \n",
      "3      Testing Rank  \n",
      "4                    \n",
      "...             ...  \n",
      "49851                \n",
      "49852                \n",
      "49853                \n",
      "49854                \n",
      "49855                \n",
      "\n",
      "[49856 rows x 5 columns]\n",
      "       entry  spellid_1\n",
      "0         17        265\n",
      "1         25          0\n",
      "2         35          0\n",
      "3         36          0\n",
      "4         37          0\n",
      "...      ...        ...\n",
      "46091  54847      55884\n",
      "46092  54848          0\n",
      "46093  54857      55884\n",
      "46094  54860      55884\n",
      "46095  56806      55884\n",
      "\n",
      "[46096 rows x 2 columns]\n"
     ]
    }
   ],
   "source": [
    "# Import spell data from `spell.dbc` that has been exported to DB\n",
    "from sqlalchemy import create_engine\n",
    "import pandas as pd\n",
    "\n",
    "# Database connection settings\n",
    "config = {\n",
    "    'user': 'acore',\n",
    "    'password': 'acore',\n",
    "    'host': 'localhost',\n",
    "    'port': 3306,\n",
    "    'database': 'spelleditorcustomwrath'\n",
    "}\n",
    "\n",
    "# Create a SQLAlchemy engine\n",
    "engine = create_engine(f'mysql+mysqlconnector://{config[\"user\"]}:{config[\"password\"]}@{config[\"host\"]}:{config[\"port\"]}/{config[\"database\"]}')\n",
    "\n",
    "# Execute the SELECT query\n",
    "query = \"SELECT `ID`, `Effect1`, `EffectMiscValue1`, `SpellName0`, `SpellRank0` FROM `spell`\"\n",
    "df_spell = pd.read_sql_query(query, engine)\n",
    "\n",
    "# Print the DataFrame\n",
    "print(df_spell)\n",
    "\n",
    "# Pickle DataFrame\n",
    "df_spell.to_pickle(\"./df_spell.pkl\")\n",
    "\n",
    "# Close the engine\n",
    "engine.dispose()\n",
    "\n",
    "# Database connection settings\n",
    "config = {\n",
    "    'user': 'acore',\n",
    "    'password': 'acore',\n",
    "    'host': 'localhost',\n",
    "    'port': 3306,\n",
    "    'database': 'acore_world'\n",
    "}\n",
    "\n",
    "# Create a SQLAlchemy engine\n",
    "engine = create_engine(f'mysql+mysqlconnector://{config[\"user\"]}:{config[\"password\"]}@{config[\"host\"]}:{config[\"port\"]}/{config[\"database\"]}')\n",
    "\n",
    "# Execute the SELECT query\n",
    "query = \"SELECT `entry`, `spellid_1` FROM `item_template`\"\n",
    "df_item = pd.read_sql_query(query, engine)\n",
    "\n",
    "# Print the DataFrame\n",
    "print(df_item)\n",
    "\n",
    "# Pickle DataFrame\n",
    "df_item.to_pickle(\"./df_item.pkl\")\n",
    "\n",
    "# Close the engine\n",
    "engine.dispose()"
   ]
  },
  {
   "cell_type": "code",
   "execution_count": 6,
   "metadata": {},
   "outputs": [
    {
     "name": "stdout",
     "output_type": "stream",
     "text": [
      "{35452: 1, 35439: 1, 34004: 1, 27960: 1, 27899: 1, 33995: 1, 35490: 1, 27954: 1, 27984: 2}\n"
     ]
    }
   ],
   "source": [
    "# find enchant spells from enchant effect\n",
    "SPELL_EFFECT_ENCHANT_ITEM = 53\n",
    "enchant_eff_to_id = {}\n",
    "for item in items:\n",
    "    enchant_id = item.get('enchant')\n",
    "    if not enchant_id:\n",
    "        continue\n",
    "    df = df_spell.loc[(df_spell['Effect1'] == SPELL_EFFECT_ENCHANT_ITEM) & (df_spell['EffectMiscValue1'] == enchant_id)]\n",
    "    if df.empty:\n",
    "        print(f'ERROR: No match for `enchant_id` in spell.dbc {enchant_id}')\n",
    "        continue\n",
    "    spell_id = df['ID'].values[0]\n",
    "    enchant_eff_to_id[spell_id] = enchant_eff_to_id.get(spell_id, 0) + 1\n",
    "print(enchant_eff_to_id)\n",
    "\n"
   ]
  },
  {
   "cell_type": "code",
   "execution_count": 7,
   "metadata": {},
   "outputs": [
    {
     "name": "stdout",
     "output_type": "stream",
     "text": [
      ".add 29192 1\n",
      ".add 28910 1\n",
      ".add 38940 1\n",
      ".add 38913 1\n",
      ".add 38897 1\n",
      ".add 38933 1\n",
      ".add 29535 1\n",
      ".add 38910 1\n",
      ".add 38925 2\n",
      "\n",
      ".add 34220 1\n",
      ".add 32193 12\n",
      ".add 32226 2\n",
      ".add 32217 1\n",
      "\n",
      ".add 30972\n",
      ".add 32260\n",
      ".add 30979\n",
      ".add 32323\n",
      ".add 30975\n",
      ".add 30861\n",
      ".add 30969\n",
      ".add 30032\n",
      ".add 30977\n",
      ".add 32345\n",
      ".add 32335\n",
      ".add 32497\n",
      ".add 28830\n",
      ".add 30627\n",
      ".add 28439\n",
      ".add 28438\n",
      ".add 30724\n",
      "\n",
      ".add 43432\n",
      ".add 43418\n",
      ".add 49084\n",
      ".add 43397\n",
      "\n"
     ]
    }
   ],
   "source": [
    "# print .add commands for enchantItems, gems, gear, glyphs\n",
    "errors = []\n",
    "for spell_id, amount in enchant_eff_to_id.items():\n",
    "    df = df_item.loc[df_item['spellid_1'] == spell_id]\n",
    "    if df.empty:\n",
    "        errors.append(f'ERROR: No match for `spellid_1` in spell.dbc {spell_id}')\n",
    "        continue\n",
    "    entry = df['entry'].values[0]\n",
    "    print(f'.add {entry} {amount}')\n",
    "\n",
    "print('')\n",
    "\n",
    "gems_total = {}\n",
    "for i in items:\n",
    "    if i.get('gems'):\n",
    "        for j in i['gems']:\n",
    "            if (j == 0): # sometimes gems are 0\n",
    "                continue\n",
    "            if j not in gems_total:\n",
    "                gems_total[j] = 1\n",
    "            else:\n",
    "                gems_total[j] += 1\n",
    "for gemId, amount in gems_total.items():\n",
    "    print(f'.add {gemId} {amount}')\n",
    "\n",
    "print('')\n",
    "\n",
    "for i, item in enumerate(items):\n",
    "    item_id = item.get('id')\n",
    "    if item_id:\n",
    "        print(f'.add {item_id}')\n",
    "\n",
    "print('')\n",
    "\n",
    "glyphs = data['player']['glyphs']\n",
    "for _, itemId in glyphs.items():\n",
    "    print(f'.add {itemId}')\n",
    "\n",
    "print('\\n'.join(errors))"
   ]
  }
 ],
 "metadata": {
  "kernelspec": {
   "display_name": "Python 3",
   "language": "python",
   "name": "python3"
  },
  "language_info": {
   "codemirror_mode": {
    "name": "ipython",
    "version": 3
   },
   "file_extension": ".py",
   "mimetype": "text/x-python",
   "name": "python",
   "nbconvert_exporter": "python",
   "pygments_lexer": "ipython3",
   "version": "3.11.8"
  }
 },
 "nbformat": 4,
 "nbformat_minor": 2
}
